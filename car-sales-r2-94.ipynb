{
 "cells": [
  {
   "cell_type": "markdown",
   "id": "9de4f11d",
   "metadata": {
    "papermill": {
     "duration": 0.010432,
     "end_time": "2023-06-02T12:45:15.132119",
     "exception": false,
     "start_time": "2023-06-02T12:45:15.121687",
     "status": "completed"
    },
    "tags": []
   },
   "source": [
    "# Import"
   ]
  },
  {
   "cell_type": "code",
   "execution_count": 1,
   "id": "89b1f03f",
   "metadata": {
    "_cell_guid": "b1076dfc-b9ad-4769-8c92-a6c4dae69d19",
    "_uuid": "8f2839f25d086af736a60e9eeb907d3b93b6e0e5",
    "execution": {
     "iopub.execute_input": "2023-06-02T12:45:15.149525Z",
     "iopub.status.busy": "2023-06-02T12:45:15.149099Z",
     "iopub.status.idle": "2023-06-02T12:45:17.599685Z",
     "shell.execute_reply": "2023-06-02T12:45:17.598356Z"
    },
    "papermill": {
     "duration": 2.462585,
     "end_time": "2023-06-02T12:45:17.602580",
     "exception": false,
     "start_time": "2023-06-02T12:45:15.139995",
     "status": "completed"
    },
    "tags": []
   },
   "outputs": [],
   "source": [
    "import pandas as pd\n",
    "import numpy as np\n",
    "import matplotlib.pyplot as plt\n",
    "import seaborn as sns\n",
    "from sklearn.model_selection import train_test_split, GridSearchCV\n",
    "from category_encoders import TargetEncoder\n",
    "from sklearn.preprocessing import LabelEncoder\n",
    "from sklearn.preprocessing import MinMaxScaler\n",
    "from sklearn import metrics"
   ]
  },
  {
   "cell_type": "markdown",
   "id": "3c66947b",
   "metadata": {
    "papermill": {
     "duration": 0.008629,
     "end_time": "2023-06-02T12:45:17.619683",
     "exception": false,
     "start_time": "2023-06-02T12:45:17.611054",
     "status": "completed"
    },
    "tags": []
   },
   "source": [
    "* **Pandas** for data manipulation and analysis.\n",
    "- **NumPy** for numerical computing and array operations.\n",
    "- **Matplotlib's** for creating plots and visualizations.\n",
    "- **Seaborn** for advanced data visualization.\n",
    "- **Scikit-learn's** `train_test_split` function for splitting data into training and testing sets.\n",
    "- **Scikit-learn's** `GridSearchCV` class for hyperparameter tuning using cross-validation.\n",
    "- **TargetEncoder** from the category_encoders library for encoding categorical variables.\n",
    "- **LabelEncoder** from scikit-learn for encoding categorical variables as numeric labels.\n",
    "- **MinMaxScaler** from scikit-learn for feature scaling and normalization.\n",
    "- **Scikit-learn's** metrics module for evaluating machine learning model performance.\n",
    "\n"
   ]
  },
  {
   "cell_type": "code",
   "execution_count": 2,
   "id": "9c6d7d7d",
   "metadata": {
    "_kg_hide-output": true,
    "execution": {
     "iopub.execute_input": "2023-06-02T12:45:17.638480Z",
     "iopub.status.busy": "2023-06-02T12:45:17.637944Z",
     "iopub.status.idle": "2023-06-02T12:45:30.881405Z",
     "shell.execute_reply": "2023-06-02T12:45:30.880005Z"
    },
    "papermill": {
     "duration": 13.256441,
     "end_time": "2023-06-02T12:45:30.884930",
     "exception": false,
     "start_time": "2023-06-02T12:45:17.628489",
     "status": "completed"
    },
    "tags": []
   },
   "outputs": [
    {
     "name": "stdout",
     "output_type": "stream",
     "text": [
      "Requirement already satisfied: category_encoders in /opt/conda/lib/python3.10/site-packages (2.6.1)\r\n",
      "Requirement already satisfied: numpy>=1.14.0 in /opt/conda/lib/python3.10/site-packages (from category_encoders) (1.23.5)\r\n",
      "Requirement already satisfied: scikit-learn>=0.20.0 in /opt/conda/lib/python3.10/site-packages (from category_encoders) (1.2.2)\r\n",
      "Requirement already satisfied: scipy>=1.0.0 in /opt/conda/lib/python3.10/site-packages (from category_encoders) (1.10.1)\r\n",
      "Requirement already satisfied: statsmodels>=0.9.0 in /opt/conda/lib/python3.10/site-packages (from category_encoders) (0.13.5)\r\n",
      "Requirement already satisfied: pandas>=1.0.5 in /opt/conda/lib/python3.10/site-packages (from category_encoders) (1.5.3)\r\n",
      "Requirement already satisfied: patsy>=0.5.1 in /opt/conda/lib/python3.10/site-packages (from category_encoders) (0.5.3)\r\n",
      "Requirement already satisfied: python-dateutil>=2.8.1 in /opt/conda/lib/python3.10/site-packages (from pandas>=1.0.5->category_encoders) (2.8.2)\r\n",
      "Requirement already satisfied: pytz>=2020.1 in /opt/conda/lib/python3.10/site-packages (from pandas>=1.0.5->category_encoders) (2023.3)\r\n",
      "Requirement already satisfied: six in /opt/conda/lib/python3.10/site-packages (from patsy>=0.5.1->category_encoders) (1.16.0)\r\n",
      "Requirement already satisfied: joblib>=1.1.1 in /opt/conda/lib/python3.10/site-packages (from scikit-learn>=0.20.0->category_encoders) (1.2.0)\r\n",
      "Requirement already satisfied: threadpoolctl>=2.0.0 in /opt/conda/lib/python3.10/site-packages (from scikit-learn>=0.20.0->category_encoders) (3.1.0)\r\n",
      "Requirement already satisfied: packaging>=21.3 in /opt/conda/lib/python3.10/site-packages (from statsmodels>=0.9.0->category_encoders) (21.3)\r\n",
      "Requirement already satisfied: pyparsing!=3.0.5,>=2.0.2 in /opt/conda/lib/python3.10/site-packages (from packaging>=21.3->statsmodels>=0.9.0->category_encoders) (3.0.9)\r\n",
      "\u001b[33mWARNING: Running pip as the 'root' user can result in broken permissions and conflicting behaviour with the system package manager. It is recommended to use a virtual environment instead: https://pip.pypa.io/warnings/venv\u001b[0m\u001b[33m\r\n",
      "\u001b[0m"
     ]
    }
   ],
   "source": [
    "!pip install category_encoders"
   ]
  },
  {
   "cell_type": "markdown",
   "id": "7c5fb78e",
   "metadata": {
    "papermill": {
     "duration": 0.009898,
     "end_time": "2023-06-02T12:45:30.903479",
     "exception": false,
     "start_time": "2023-06-02T12:45:30.893581",
     "status": "completed"
    },
    "tags": []
   },
   "source": [
    "# Getting the data"
   ]
  },
  {
   "cell_type": "code",
   "execution_count": 3,
   "id": "e3d71029",
   "metadata": {
    "execution": {
     "iopub.execute_input": "2023-06-02T12:45:30.923485Z",
     "iopub.status.busy": "2023-06-02T12:45:30.922996Z",
     "iopub.status.idle": "2023-06-02T12:45:30.987992Z",
     "shell.execute_reply": "2023-06-02T12:45:30.986786Z"
    },
    "papermill": {
     "duration": 0.078405,
     "end_time": "2023-06-02T12:45:30.990838",
     "exception": false,
     "start_time": "2023-06-02T12:45:30.912433",
     "status": "completed"
    },
    "tags": []
   },
   "outputs": [
    {
     "data": {
      "text/html": [
       "<div>\n",
       "<style scoped>\n",
       "    .dataframe tbody tr th:only-of-type {\n",
       "        vertical-align: middle;\n",
       "    }\n",
       "\n",
       "    .dataframe tbody tr th {\n",
       "        vertical-align: top;\n",
       "    }\n",
       "\n",
       "    .dataframe thead th {\n",
       "        text-align: right;\n",
       "    }\n",
       "</style>\n",
       "<table border=\"1\" class=\"dataframe\">\n",
       "  <thead>\n",
       "    <tr style=\"text-align: right;\">\n",
       "      <th></th>\n",
       "      <th>Make</th>\n",
       "      <th>Model</th>\n",
       "      <th>Year</th>\n",
       "      <th>Sales</th>\n",
       "      <th>Predictions</th>\n",
       "    </tr>\n",
       "  </thead>\n",
       "  <tbody>\n",
       "    <tr>\n",
       "      <th>0</th>\n",
       "      <td>acura</td>\n",
       "      <td>TSX</td>\n",
       "      <td>2013</td>\n",
       "      <td>31998</td>\n",
       "      <td>NaN</td>\n",
       "    </tr>\n",
       "    <tr>\n",
       "      <th>1</th>\n",
       "      <td>acura</td>\n",
       "      <td>TSX</td>\n",
       "      <td>2012</td>\n",
       "      <td>38035</td>\n",
       "      <td>NaN</td>\n",
       "    </tr>\n",
       "    <tr>\n",
       "      <th>2</th>\n",
       "      <td>acura</td>\n",
       "      <td>TSX</td>\n",
       "      <td>2011</td>\n",
       "      <td>30365</td>\n",
       "      <td>NaN</td>\n",
       "    </tr>\n",
       "    <tr>\n",
       "      <th>3</th>\n",
       "      <td>acura</td>\n",
       "      <td>NSX</td>\n",
       "      <td>2007</td>\n",
       "      <td>238</td>\n",
       "      <td>NaN</td>\n",
       "    </tr>\n",
       "    <tr>\n",
       "      <th>4</th>\n",
       "      <td>acura</td>\n",
       "      <td>NSX</td>\n",
       "      <td>2006</td>\n",
       "      <td>415</td>\n",
       "      <td>NaN</td>\n",
       "    </tr>\n",
       "    <tr>\n",
       "      <th>...</th>\n",
       "      <td>...</td>\n",
       "      <td>...</td>\n",
       "      <td>...</td>\n",
       "      <td>...</td>\n",
       "      <td>...</td>\n",
       "    </tr>\n",
       "    <tr>\n",
       "      <th>822</th>\n",
       "      <td>volvo</td>\n",
       "      <td>S40</td>\n",
       "      <td>2008</td>\n",
       "      <td>18112</td>\n",
       "      <td>NaN</td>\n",
       "    </tr>\n",
       "    <tr>\n",
       "      <th>823</th>\n",
       "      <td>volvo</td>\n",
       "      <td>S40</td>\n",
       "      <td>2007</td>\n",
       "      <td>35634</td>\n",
       "      <td>NaN</td>\n",
       "    </tr>\n",
       "    <tr>\n",
       "      <th>824</th>\n",
       "      <td>volvo</td>\n",
       "      <td>V50</td>\n",
       "      <td>2011</td>\n",
       "      <td>2155</td>\n",
       "      <td>NaN</td>\n",
       "    </tr>\n",
       "    <tr>\n",
       "      <th>825</th>\n",
       "      <td>volvo</td>\n",
       "      <td>V50</td>\n",
       "      <td>2010</td>\n",
       "      <td>2850</td>\n",
       "      <td>NaN</td>\n",
       "    </tr>\n",
       "    <tr>\n",
       "      <th>826</th>\n",
       "      <td>volvo</td>\n",
       "      <td>V50</td>\n",
       "      <td>2009</td>\n",
       "      <td>5671</td>\n",
       "      <td>NaN</td>\n",
       "    </tr>\n",
       "  </tbody>\n",
       "</table>\n",
       "<p>827 rows × 5 columns</p>\n",
       "</div>"
      ],
      "text/plain": [
       "      Make Model  Year  Sales  Predictions\n",
       "0    acura   TSX  2013  31998          NaN\n",
       "1    acura   TSX  2012  38035          NaN\n",
       "2    acura   TSX  2011  30365          NaN\n",
       "3    acura   NSX  2007    238          NaN\n",
       "4    acura   NSX  2006    415          NaN\n",
       "..     ...   ...   ...    ...          ...\n",
       "822  volvo   S40  2008  18112          NaN\n",
       "823  volvo   S40  2007  35634          NaN\n",
       "824  volvo   V50  2011   2155          NaN\n",
       "825  volvo   V50  2010   2850          NaN\n",
       "826  volvo   V50  2009   5671          NaN\n",
       "\n",
       "[827 rows x 5 columns]"
      ]
     },
     "execution_count": 3,
     "metadata": {},
     "output_type": "execute_result"
    }
   ],
   "source": [
    "df = pd.read_csv('/kaggle/input/car-sales/car_sales_data.csv')\n",
    "df"
   ]
  },
  {
   "cell_type": "code",
   "execution_count": 4,
   "id": "ab7b1109",
   "metadata": {
    "execution": {
     "iopub.execute_input": "2023-06-02T12:45:31.014085Z",
     "iopub.status.busy": "2023-06-02T12:45:31.013097Z",
     "iopub.status.idle": "2023-06-02T12:45:31.062064Z",
     "shell.execute_reply": "2023-06-02T12:45:31.060708Z"
    },
    "papermill": {
     "duration": 0.063343,
     "end_time": "2023-06-02T12:45:31.064593",
     "exception": false,
     "start_time": "2023-06-02T12:45:31.001250",
     "status": "completed"
    },
    "tags": []
   },
   "outputs": [
    {
     "name": "stdout",
     "output_type": "stream",
     "text": [
      "<class 'pandas.core.frame.DataFrame'>\n",
      "RangeIndex: 827 entries, 0 to 826\n",
      "Data columns (total 5 columns):\n",
      " #   Column       Non-Null Count  Dtype  \n",
      "---  ------       --------------  -----  \n",
      " 0   Make         827 non-null    object \n",
      " 1   Model        827 non-null    object \n",
      " 2   Year         827 non-null    int64  \n",
      " 3   Sales        827 non-null    int64  \n",
      " 4   Predictions  0 non-null      float64\n",
      "dtypes: float64(1), int64(2), object(2)\n",
      "memory usage: 32.4+ KB\n"
     ]
    },
    {
     "data": {
      "text/html": [
       "<div>\n",
       "<style scoped>\n",
       "    .dataframe tbody tr th:only-of-type {\n",
       "        vertical-align: middle;\n",
       "    }\n",
       "\n",
       "    .dataframe tbody tr th {\n",
       "        vertical-align: top;\n",
       "    }\n",
       "\n",
       "    .dataframe thead th {\n",
       "        text-align: right;\n",
       "    }\n",
       "</style>\n",
       "<table border=\"1\" class=\"dataframe\">\n",
       "  <thead>\n",
       "    <tr style=\"text-align: right;\">\n",
       "      <th></th>\n",
       "      <th>count</th>\n",
       "      <th>mean</th>\n",
       "      <th>std</th>\n",
       "      <th>min</th>\n",
       "      <th>25%</th>\n",
       "      <th>50%</th>\n",
       "      <th>75%</th>\n",
       "      <th>max</th>\n",
       "    </tr>\n",
       "  </thead>\n",
       "  <tbody>\n",
       "    <tr>\n",
       "      <th>Year</th>\n",
       "      <td>827.0</td>\n",
       "      <td>2005.777509</td>\n",
       "      <td>5.656112</td>\n",
       "      <td>1993.0</td>\n",
       "      <td>2002.5</td>\n",
       "      <td>2007.0</td>\n",
       "      <td>2010.0</td>\n",
       "      <td>2013.0</td>\n",
       "    </tr>\n",
       "    <tr>\n",
       "      <th>Sales</th>\n",
       "      <td>827.0</td>\n",
       "      <td>81156.534462</td>\n",
       "      <td>121744.182619</td>\n",
       "      <td>0.0</td>\n",
       "      <td>9369.0</td>\n",
       "      <td>33497.0</td>\n",
       "      <td>99616.5</td>\n",
       "      <td>911597.0</td>\n",
       "    </tr>\n",
       "    <tr>\n",
       "      <th>Predictions</th>\n",
       "      <td>0.0</td>\n",
       "      <td>NaN</td>\n",
       "      <td>NaN</td>\n",
       "      <td>NaN</td>\n",
       "      <td>NaN</td>\n",
       "      <td>NaN</td>\n",
       "      <td>NaN</td>\n",
       "      <td>NaN</td>\n",
       "    </tr>\n",
       "  </tbody>\n",
       "</table>\n",
       "</div>"
      ],
      "text/plain": [
       "             count          mean            std     min     25%      50%  \\\n",
       "Year         827.0   2005.777509       5.656112  1993.0  2002.5   2007.0   \n",
       "Sales        827.0  81156.534462  121744.182619     0.0  9369.0  33497.0   \n",
       "Predictions    0.0           NaN            NaN     NaN     NaN      NaN   \n",
       "\n",
       "                 75%       max  \n",
       "Year          2010.0    2013.0  \n",
       "Sales        99616.5  911597.0  \n",
       "Predictions      NaN       NaN  "
      ]
     },
     "execution_count": 4,
     "metadata": {},
     "output_type": "execute_result"
    }
   ],
   "source": [
    "df.info()\n",
    "df.describe().transpose()"
   ]
  },
  {
   "cell_type": "markdown",
   "id": "0f49c98a",
   "metadata": {
    "papermill": {
     "duration": 0.008932,
     "end_time": "2023-06-02T12:45:31.082781",
     "exception": false,
     "start_time": "2023-06-02T12:45:31.073849",
     "status": "completed"
    },
    "tags": []
   },
   "source": [
    "- **`df.info()`** provides a concise summary of the DataFrame, including column names, data types, non-null counts, and memory usage.\n",
    "- **`df.describe().transpose()`** computes summary statistics for numerical columns and transposes the results for easier readability."
   ]
  },
  {
   "cell_type": "markdown",
   "id": "c94c8719",
   "metadata": {
    "papermill": {
     "duration": 0.008302,
     "end_time": "2023-06-02T12:45:31.099869",
     "exception": false,
     "start_time": "2023-06-02T12:45:31.091567",
     "status": "completed"
    },
    "tags": []
   },
   "source": [
    "# Target Endcoding "
   ]
  },
  {
   "cell_type": "code",
   "execution_count": 5,
   "id": "e3dd2322",
   "metadata": {
    "execution": {
     "iopub.execute_input": "2023-06-02T12:45:31.119834Z",
     "iopub.status.busy": "2023-06-02T12:45:31.119415Z",
     "iopub.status.idle": "2023-06-02T12:45:31.149108Z",
     "shell.execute_reply": "2023-06-02T12:45:31.148030Z"
    },
    "papermill": {
     "duration": 0.042898,
     "end_time": "2023-06-02T12:45:31.151843",
     "exception": false,
     "start_time": "2023-06-02T12:45:31.108945",
     "status": "completed"
    },
    "tags": []
   },
   "outputs": [],
   "source": [
    "Targetenc = TargetEncoder()\n",
    "values = Targetenc.fit_transform(X = df.Model, y = df.Sales)\n"
   ]
  },
  {
   "cell_type": "markdown",
   "id": "4d8a0318",
   "metadata": {
    "papermill": {
     "duration": 0.008926,
     "end_time": "2023-06-02T12:45:31.169602",
     "exception": false,
     "start_time": "2023-06-02T12:45:31.160676",
     "status": "completed"
    },
    "tags": []
   },
   "source": [
    "**`TargetEncoder`** encodes categorical variables by replacing each category with the mean target value of that category. \n",
    "\n",
    "`values = Targetenc.fit_transform(X = df.Model, y = df.Sales)`: \n",
    "   - `fit_transform()` method of the `TargetEncoder` class is used to encode the `Model` column.\n",
    "   - The `X` parameter is set to `df.Model`, which represents the column to be encoded.\n",
    "   - The `y` parameter is set to `df.Sales`, which represents the target variable used for encoding.\n",
    "   - The resulting encoded values are stored in the `values` variable.\n"
   ]
  },
  {
   "cell_type": "code",
   "execution_count": 6,
   "id": "e7327bfb",
   "metadata": {
    "execution": {
     "iopub.execute_input": "2023-06-02T12:45:31.189857Z",
     "iopub.status.busy": "2023-06-02T12:45:31.189457Z",
     "iopub.status.idle": "2023-06-02T12:45:31.203991Z",
     "shell.execute_reply": "2023-06-02T12:45:31.202612Z"
    },
    "papermill": {
     "duration": 0.027238,
     "end_time": "2023-06-02T12:45:31.206384",
     "exception": false,
     "start_time": "2023-06-02T12:45:31.179146",
     "status": "completed"
    },
    "tags": []
   },
   "outputs": [
    {
     "data": {
      "text/html": [
       "<div>\n",
       "<style scoped>\n",
       "    .dataframe tbody tr th:only-of-type {\n",
       "        vertical-align: middle;\n",
       "    }\n",
       "\n",
       "    .dataframe tbody tr th {\n",
       "        vertical-align: top;\n",
       "    }\n",
       "\n",
       "    .dataframe thead th {\n",
       "        text-align: right;\n",
       "    }\n",
       "</style>\n",
       "<table border=\"1\" class=\"dataframe\">\n",
       "  <thead>\n",
       "    <tr style=\"text-align: right;\">\n",
       "      <th></th>\n",
       "      <th>Make</th>\n",
       "      <th>Model</th>\n",
       "      <th>Year</th>\n",
       "      <th>Sales</th>\n",
       "      <th>Predictions</th>\n",
       "    </tr>\n",
       "  </thead>\n",
       "  <tbody>\n",
       "    <tr>\n",
       "      <th>0</th>\n",
       "      <td>acura</td>\n",
       "      <td>TSX</td>\n",
       "      <td>2013</td>\n",
       "      <td>31998</td>\n",
       "      <td>NaN</td>\n",
       "    </tr>\n",
       "    <tr>\n",
       "      <th>1</th>\n",
       "      <td>acura</td>\n",
       "      <td>TSX</td>\n",
       "      <td>2012</td>\n",
       "      <td>38035</td>\n",
       "      <td>NaN</td>\n",
       "    </tr>\n",
       "    <tr>\n",
       "      <th>2</th>\n",
       "      <td>acura</td>\n",
       "      <td>TSX</td>\n",
       "      <td>2011</td>\n",
       "      <td>30365</td>\n",
       "      <td>NaN</td>\n",
       "    </tr>\n",
       "    <tr>\n",
       "      <th>3</th>\n",
       "      <td>acura</td>\n",
       "      <td>NSX</td>\n",
       "      <td>2007</td>\n",
       "      <td>238</td>\n",
       "      <td>NaN</td>\n",
       "    </tr>\n",
       "    <tr>\n",
       "      <th>4</th>\n",
       "      <td>acura</td>\n",
       "      <td>NSX</td>\n",
       "      <td>2006</td>\n",
       "      <td>415</td>\n",
       "      <td>NaN</td>\n",
       "    </tr>\n",
       "    <tr>\n",
       "      <th>...</th>\n",
       "      <td>...</td>\n",
       "      <td>...</td>\n",
       "      <td>...</td>\n",
       "      <td>...</td>\n",
       "      <td>...</td>\n",
       "    </tr>\n",
       "    <tr>\n",
       "      <th>822</th>\n",
       "      <td>volvo</td>\n",
       "      <td>S40</td>\n",
       "      <td>2008</td>\n",
       "      <td>18112</td>\n",
       "      <td>NaN</td>\n",
       "    </tr>\n",
       "    <tr>\n",
       "      <th>823</th>\n",
       "      <td>volvo</td>\n",
       "      <td>S40</td>\n",
       "      <td>2007</td>\n",
       "      <td>35634</td>\n",
       "      <td>NaN</td>\n",
       "    </tr>\n",
       "    <tr>\n",
       "      <th>824</th>\n",
       "      <td>volvo</td>\n",
       "      <td>V50</td>\n",
       "      <td>2011</td>\n",
       "      <td>2155</td>\n",
       "      <td>NaN</td>\n",
       "    </tr>\n",
       "    <tr>\n",
       "      <th>825</th>\n",
       "      <td>volvo</td>\n",
       "      <td>V50</td>\n",
       "      <td>2010</td>\n",
       "      <td>2850</td>\n",
       "      <td>NaN</td>\n",
       "    </tr>\n",
       "    <tr>\n",
       "      <th>826</th>\n",
       "      <td>volvo</td>\n",
       "      <td>V50</td>\n",
       "      <td>2009</td>\n",
       "      <td>5671</td>\n",
       "      <td>NaN</td>\n",
       "    </tr>\n",
       "  </tbody>\n",
       "</table>\n",
       "<p>827 rows × 5 columns</p>\n",
       "</div>"
      ],
      "text/plain": [
       "      Make Model  Year  Sales  Predictions\n",
       "0    acura   TSX  2013  31998          NaN\n",
       "1    acura   TSX  2012  38035          NaN\n",
       "2    acura   TSX  2011  30365          NaN\n",
       "3    acura   NSX  2007    238          NaN\n",
       "4    acura   NSX  2006    415          NaN\n",
       "..     ...   ...   ...    ...          ...\n",
       "822  volvo   S40  2008  18112          NaN\n",
       "823  volvo   S40  2007  35634          NaN\n",
       "824  volvo   V50  2011   2155          NaN\n",
       "825  volvo   V50  2010   2850          NaN\n",
       "826  volvo   V50  2009   5671          NaN\n",
       "\n",
       "[827 rows x 5 columns]"
      ]
     },
     "execution_count": 6,
     "metadata": {},
     "output_type": "execute_result"
    }
   ],
   "source": [
    "df"
   ]
  },
  {
   "cell_type": "code",
   "execution_count": 7,
   "id": "c6eb6776",
   "metadata": {
    "execution": {
     "iopub.execute_input": "2023-06-02T12:45:31.228090Z",
     "iopub.status.busy": "2023-06-02T12:45:31.226826Z",
     "iopub.status.idle": "2023-06-02T12:45:31.243691Z",
     "shell.execute_reply": "2023-06-02T12:45:31.242428Z"
    },
    "papermill": {
     "duration": 0.030653,
     "end_time": "2023-06-02T12:45:31.246208",
     "exception": false,
     "start_time": "2023-06-02T12:45:31.215555",
     "status": "completed"
    },
    "tags": []
   },
   "outputs": [
    {
     "data": {
      "text/plain": [
       "<bound method NDFrame.head of       Make  Year  Sales  Predictions         Model\n",
       "0    acura  2013  31998          NaN  73790.003414\n",
       "1    acura  2012  38035          NaN  73790.003414\n",
       "2    acura  2011  30365          NaN  73790.003414\n",
       "3    acura  2007    238          NaN  66502.158150\n",
       "4    acura  2006    415          NaN  66502.158150\n",
       "..     ...   ...    ...          ...           ...\n",
       "822  volvo  2008  18112          NaN  69031.158309\n",
       "823  volvo  2007  35634          NaN  69031.158309\n",
       "824  volvo  2011   2155          NaN  69170.359243\n",
       "825  volvo  2010   2850          NaN  69170.359243\n",
       "826  volvo  2009   5671          NaN  69170.359243\n",
       "\n",
       "[827 rows x 5 columns]>"
      ]
     },
     "execution_count": 7,
     "metadata": {},
     "output_type": "execute_result"
    }
   ],
   "source": [
    "# concatenating values with dataframe\n",
    "df = df.drop('Model',axis = 1)\n",
    "df = pd.concat([df, values], axis = 1)\n",
    "df.head"
   ]
  },
  {
   "cell_type": "code",
   "execution_count": 8,
   "id": "b43bf4e4",
   "metadata": {
    "execution": {
     "iopub.execute_input": "2023-06-02T12:45:31.266577Z",
     "iopub.status.busy": "2023-06-02T12:45:31.266104Z",
     "iopub.status.idle": "2023-06-02T12:45:31.272070Z",
     "shell.execute_reply": "2023-06-02T12:45:31.270977Z"
    },
    "papermill": {
     "duration": 0.018708,
     "end_time": "2023-06-02T12:45:31.274162",
     "exception": false,
     "start_time": "2023-06-02T12:45:31.255454",
     "status": "completed"
    },
    "tags": []
   },
   "outputs": [],
   "source": [
    "df = df.drop(['Predictions'], axis=1)"
   ]
  },
  {
   "cell_type": "code",
   "execution_count": 9,
   "id": "c63a0f33",
   "metadata": {
    "execution": {
     "iopub.execute_input": "2023-06-02T12:45:31.295046Z",
     "iopub.status.busy": "2023-06-02T12:45:31.294071Z",
     "iopub.status.idle": "2023-06-02T12:45:31.301287Z",
     "shell.execute_reply": "2023-06-02T12:45:31.300250Z"
    },
    "papermill": {
     "duration": 0.0199,
     "end_time": "2023-06-02T12:45:31.303439",
     "exception": false,
     "start_time": "2023-06-02T12:45:31.283539",
     "status": "completed"
    },
    "tags": []
   },
   "outputs": [
    {
     "data": {
      "text/plain": [
       "187"
      ]
     },
     "execution_count": 9,
     "metadata": {},
     "output_type": "execute_result"
    }
   ],
   "source": [
    "df.Model.nunique()"
   ]
  },
  {
   "cell_type": "code",
   "execution_count": 10,
   "id": "41d61434",
   "metadata": {
    "execution": {
     "iopub.execute_input": "2023-06-02T12:45:31.324537Z",
     "iopub.status.busy": "2023-06-02T12:45:31.324100Z",
     "iopub.status.idle": "2023-06-02T12:45:31.330856Z",
     "shell.execute_reply": "2023-06-02T12:45:31.329759Z"
    },
    "papermill": {
     "duration": 0.02112,
     "end_time": "2023-06-02T12:45:31.333888",
     "exception": false,
     "start_time": "2023-06-02T12:45:31.312768",
     "status": "completed"
    },
    "tags": []
   },
   "outputs": [],
   "source": [
    "label_encoder = LabelEncoder()\n",
    "df['Make'] = label_encoder.fit_transform(df['Make'])\n"
   ]
  },
  {
   "cell_type": "markdown",
   "id": "66c852ed",
   "metadata": {
    "papermill": {
     "duration": 0.009568,
     "end_time": "2023-06-02T12:45:31.352909",
     "exception": false,
     "start_time": "2023-06-02T12:45:31.343341",
     "status": "completed"
    },
    "tags": []
   },
   "source": [
    "\n",
    "\n",
    "1. `LabelEncoder()`: Initializes an instance of the `LabelEncoder` class.\n",
    "\n",
    "2. `df['Make'] = label_encoder.fit_transform(df['Make'])`:\n",
    "   - `fit_transform()` method of the `LabelEncoder` class is used to encode the 'Make' column.\n",
    "   - The `fit_transform()` method fits the encoder to the 'Make' column and transforms the categorical values into numerical labels.\n",
    "   - The resulting encoded labels are assigned back to the 'Make' column in the DataFrame `df`.\n",
    "\n",
    "The `LabelEncoder` is used to convert categorical variables into numeric labels, where each unique category is assigned a unique integer value"
   ]
  },
  {
   "cell_type": "code",
   "execution_count": 11,
   "id": "c1d20536",
   "metadata": {
    "execution": {
     "iopub.execute_input": "2023-06-02T12:45:31.374011Z",
     "iopub.status.busy": "2023-06-02T12:45:31.373581Z",
     "iopub.status.idle": "2023-06-02T12:45:31.387324Z",
     "shell.execute_reply": "2023-06-02T12:45:31.386218Z"
    },
    "papermill": {
     "duration": 0.026955,
     "end_time": "2023-06-02T12:45:31.389652",
     "exception": false,
     "start_time": "2023-06-02T12:45:31.362697",
     "status": "completed"
    },
    "tags": []
   },
   "outputs": [
    {
     "data": {
      "text/html": [
       "<div>\n",
       "<style scoped>\n",
       "    .dataframe tbody tr th:only-of-type {\n",
       "        vertical-align: middle;\n",
       "    }\n",
       "\n",
       "    .dataframe tbody tr th {\n",
       "        vertical-align: top;\n",
       "    }\n",
       "\n",
       "    .dataframe thead th {\n",
       "        text-align: right;\n",
       "    }\n",
       "</style>\n",
       "<table border=\"1\" class=\"dataframe\">\n",
       "  <thead>\n",
       "    <tr style=\"text-align: right;\">\n",
       "      <th></th>\n",
       "      <th>Make</th>\n",
       "      <th>Year</th>\n",
       "      <th>Sales</th>\n",
       "      <th>Model</th>\n",
       "    </tr>\n",
       "  </thead>\n",
       "  <tbody>\n",
       "    <tr>\n",
       "      <th>0</th>\n",
       "      <td>0</td>\n",
       "      <td>2013</td>\n",
       "      <td>31998</td>\n",
       "      <td>73790.003414</td>\n",
       "    </tr>\n",
       "    <tr>\n",
       "      <th>1</th>\n",
       "      <td>0</td>\n",
       "      <td>2012</td>\n",
       "      <td>38035</td>\n",
       "      <td>73790.003414</td>\n",
       "    </tr>\n",
       "    <tr>\n",
       "      <th>2</th>\n",
       "      <td>0</td>\n",
       "      <td>2011</td>\n",
       "      <td>30365</td>\n",
       "      <td>73790.003414</td>\n",
       "    </tr>\n",
       "    <tr>\n",
       "      <th>3</th>\n",
       "      <td>0</td>\n",
       "      <td>2007</td>\n",
       "      <td>238</td>\n",
       "      <td>66502.158150</td>\n",
       "    </tr>\n",
       "    <tr>\n",
       "      <th>4</th>\n",
       "      <td>0</td>\n",
       "      <td>2006</td>\n",
       "      <td>415</td>\n",
       "      <td>66502.158150</td>\n",
       "    </tr>\n",
       "    <tr>\n",
       "      <th>...</th>\n",
       "      <td>...</td>\n",
       "      <td>...</td>\n",
       "      <td>...</td>\n",
       "      <td>...</td>\n",
       "    </tr>\n",
       "    <tr>\n",
       "      <th>822</th>\n",
       "      <td>23</td>\n",
       "      <td>2008</td>\n",
       "      <td>18112</td>\n",
       "      <td>69031.158309</td>\n",
       "    </tr>\n",
       "    <tr>\n",
       "      <th>823</th>\n",
       "      <td>23</td>\n",
       "      <td>2007</td>\n",
       "      <td>35634</td>\n",
       "      <td>69031.158309</td>\n",
       "    </tr>\n",
       "    <tr>\n",
       "      <th>824</th>\n",
       "      <td>23</td>\n",
       "      <td>2011</td>\n",
       "      <td>2155</td>\n",
       "      <td>69170.359243</td>\n",
       "    </tr>\n",
       "    <tr>\n",
       "      <th>825</th>\n",
       "      <td>23</td>\n",
       "      <td>2010</td>\n",
       "      <td>2850</td>\n",
       "      <td>69170.359243</td>\n",
       "    </tr>\n",
       "    <tr>\n",
       "      <th>826</th>\n",
       "      <td>23</td>\n",
       "      <td>2009</td>\n",
       "      <td>5671</td>\n",
       "      <td>69170.359243</td>\n",
       "    </tr>\n",
       "  </tbody>\n",
       "</table>\n",
       "<p>827 rows × 4 columns</p>\n",
       "</div>"
      ],
      "text/plain": [
       "     Make  Year  Sales         Model\n",
       "0       0  2013  31998  73790.003414\n",
       "1       0  2012  38035  73790.003414\n",
       "2       0  2011  30365  73790.003414\n",
       "3       0  2007    238  66502.158150\n",
       "4       0  2006    415  66502.158150\n",
       "..    ...   ...    ...           ...\n",
       "822    23  2008  18112  69031.158309\n",
       "823    23  2007  35634  69031.158309\n",
       "824    23  2011   2155  69170.359243\n",
       "825    23  2010   2850  69170.359243\n",
       "826    23  2009   5671  69170.359243\n",
       "\n",
       "[827 rows x 4 columns]"
      ]
     },
     "execution_count": 11,
     "metadata": {},
     "output_type": "execute_result"
    }
   ],
   "source": [
    "df"
   ]
  },
  {
   "cell_type": "markdown",
   "id": "65e0ad75",
   "metadata": {
    "papermill": {
     "duration": 0.009578,
     "end_time": "2023-06-02T12:45:31.408654",
     "exception": false,
     "start_time": "2023-06-02T12:45:31.399076",
     "status": "completed"
    },
    "tags": []
   },
   "source": [
    "# Viz"
   ]
  },
  {
   "cell_type": "code",
   "execution_count": 12,
   "id": "8e80ea2a",
   "metadata": {
    "execution": {
     "iopub.execute_input": "2023-06-02T12:45:31.429654Z",
     "iopub.status.busy": "2023-06-02T12:45:31.429226Z",
     "iopub.status.idle": "2023-06-02T12:45:31.895873Z",
     "shell.execute_reply": "2023-06-02T12:45:31.894206Z"
    },
    "papermill": {
     "duration": 0.48033,
     "end_time": "2023-06-02T12:45:31.898502",
     "exception": false,
     "start_time": "2023-06-02T12:45:31.418172",
     "status": "completed"
    },
    "tags": []
   },
   "outputs": [
    {
     "data": {
      "text/plain": [
       "<Axes: >"
      ]
     },
     "execution_count": 12,
     "metadata": {},
     "output_type": "execute_result"
    },
    {
     "data": {
      "image/png": "[encoded data removed]",
      "text/plain": [
       "<Figure size 1400x700 with 2 Axes>"
      ]
     },
     "metadata": {},
     "output_type": "display_data"
    }
   ],
   "source": [
    "fig, ax = plt.subplots(figsize = (14,7))\n",
    "corr = df.corr().round(2)\n",
    "sns.heatmap(corr, annot = True, ax=ax, vmin=-1, vmax=1, center=0, cmap='YlOrBr')"
   ]
  },
  {
   "cell_type": "code",
   "execution_count": 13,
   "id": "e702b484",
   "metadata": {
    "execution": {
     "iopub.execute_input": "2023-06-02T12:45:31.922339Z",
     "iopub.status.busy": "2023-06-02T12:45:31.921910Z",
     "iopub.status.idle": "2023-06-02T12:45:33.664285Z",
     "shell.execute_reply": "2023-06-02T12:45:33.663070Z"
    },
    "papermill": {
     "duration": 1.757212,
     "end_time": "2023-06-02T12:45:33.666713",
     "exception": false,
     "start_time": "2023-06-02T12:45:31.909501",
     "status": "completed"
    },
    "tags": []
   },
   "outputs": [
    {
     "data": {
      "text/plain": [
       "array([[<Axes: title={'center': 'Make'}>,\n",
       "        <Axes: title={'center': 'Year'}>,\n",
       "        <Axes: title={'center': 'Sales'}>],\n",
       "       [<Axes: title={'center': 'Model'}>, <Axes: >, <Axes: >],\n",
       "       [<Axes: >, <Axes: >, <Axes: >],\n",
       "       [<Axes: >, <Axes: >, <Axes: >],\n",
       "       [<Axes: >, <Axes: >, <Axes: >],\n",
       "       [<Axes: >, <Axes: >, <Axes: >],\n",
       "       [<Axes: >, <Axes: >, <Axes: >],\n",
       "       [<Axes: >, <Axes: >, <Axes: >],\n",
       "       [<Axes: >, <Axes: >, <Axes: >]], dtype=object)"
      ]
     },
     "execution_count": 13,
     "metadata": {},
     "output_type": "execute_result"
    },
    {
     "data": {
      "image/png": "[encoded data removed]",
      "text/plain": [
       "<Figure size 1500x3000 with 27 Axes>"
      ]
     },
     "metadata": {},
     "output_type": "display_data"
    }
   ],
   "source": [
    "df.hist(figsize=(15,30),layout=(9,3))"
   ]
  },
  {
   "cell_type": "code",
   "execution_count": 14,
   "id": "1abaf728",
   "metadata": {
    "execution": {
     "iopub.execute_input": "2023-06-02T12:45:33.693559Z",
     "iopub.status.busy": "2023-06-02T12:45:33.692018Z",
     "iopub.status.idle": "2023-06-02T12:45:33.713191Z",
     "shell.execute_reply": "2023-06-02T12:45:33.711553Z"
    },
    "papermill": {
     "duration": 0.037677,
     "end_time": "2023-06-02T12:45:33.715712",
     "exception": false,
     "start_time": "2023-06-02T12:45:33.678035",
     "status": "completed"
    },
    "tags": []
   },
   "outputs": [
    {
     "name": "stdout",
     "output_type": "stream",
     "text": [
      "<class 'pandas.core.frame.DataFrame'>\n",
      "RangeIndex: 827 entries, 0 to 826\n",
      "Data columns (total 4 columns):\n",
      " #   Column  Non-Null Count  Dtype  \n",
      "---  ------  --------------  -----  \n",
      " 0   Make    827 non-null    int64  \n",
      " 1   Year    827 non-null    int64  \n",
      " 2   Sales   827 non-null    int64  \n",
      " 3   Model   827 non-null    float64\n",
      "dtypes: float64(1), int64(3)\n",
      "memory usage: 26.0 KB\n"
     ]
    },
    {
     "data": {
      "text/html": [
       "<div>\n",
       "<style scoped>\n",
       "    .dataframe tbody tr th:only-of-type {\n",
       "        vertical-align: middle;\n",
       "    }\n",
       "\n",
       "    .dataframe tbody tr th {\n",
       "        vertical-align: top;\n",
       "    }\n",
       "\n",
       "    .dataframe thead th {\n",
       "        text-align: right;\n",
       "    }\n",
       "</style>\n",
       "<table border=\"1\" class=\"dataframe\">\n",
       "  <thead>\n",
       "    <tr style=\"text-align: right;\">\n",
       "      <th></th>\n",
       "      <th>Make</th>\n",
       "      <th>Year</th>\n",
       "      <th>Sales</th>\n",
       "      <th>Model</th>\n",
       "    </tr>\n",
       "  </thead>\n",
       "  <tbody>\n",
       "    <tr>\n",
       "      <th>0</th>\n",
       "      <td>0</td>\n",
       "      <td>2013</td>\n",
       "      <td>31998</td>\n",
       "      <td>73790.003414</td>\n",
       "    </tr>\n",
       "    <tr>\n",
       "      <th>1</th>\n",
       "      <td>0</td>\n",
       "      <td>2012</td>\n",
       "      <td>38035</td>\n",
       "      <td>73790.003414</td>\n",
       "    </tr>\n",
       "    <tr>\n",
       "      <th>2</th>\n",
       "      <td>0</td>\n",
       "      <td>2011</td>\n",
       "      <td>30365</td>\n",
       "      <td>73790.003414</td>\n",
       "    </tr>\n",
       "    <tr>\n",
       "      <th>3</th>\n",
       "      <td>0</td>\n",
       "      <td>2007</td>\n",
       "      <td>238</td>\n",
       "      <td>66502.158150</td>\n",
       "    </tr>\n",
       "    <tr>\n",
       "      <th>4</th>\n",
       "      <td>0</td>\n",
       "      <td>2006</td>\n",
       "      <td>415</td>\n",
       "      <td>66502.158150</td>\n",
       "    </tr>\n",
       "  </tbody>\n",
       "</table>\n",
       "</div>"
      ],
      "text/plain": [
       "   Make  Year  Sales         Model\n",
       "0     0  2013  31998  73790.003414\n",
       "1     0  2012  38035  73790.003414\n",
       "2     0  2011  30365  73790.003414\n",
       "3     0  2007    238  66502.158150\n",
       "4     0  2006    415  66502.158150"
      ]
     },
     "execution_count": 14,
     "metadata": {},
     "output_type": "execute_result"
    }
   ],
   "source": [
    "df.info()\n",
    "df.head()"
   ]
  },
  {
   "cell_type": "code",
   "execution_count": 15,
   "id": "4ffa119c",
   "metadata": {
    "execution": {
     "iopub.execute_input": "2023-06-02T12:45:33.742308Z",
     "iopub.status.busy": "2023-06-02T12:45:33.741620Z",
     "iopub.status.idle": "2023-06-02T12:45:33.764476Z",
     "shell.execute_reply": "2023-06-02T12:45:33.763280Z"
    },
    "papermill": {
     "duration": 0.040776,
     "end_time": "2023-06-02T12:45:33.767692",
     "exception": false,
     "start_time": "2023-06-02T12:45:33.726916",
     "status": "completed"
    },
    "tags": []
   },
   "outputs": [
    {
     "data": {
      "text/html": [
       "<div>\n",
       "<style scoped>\n",
       "    .dataframe tbody tr th:only-of-type {\n",
       "        vertical-align: middle;\n",
       "    }\n",
       "\n",
       "    .dataframe tbody tr th {\n",
       "        vertical-align: top;\n",
       "    }\n",
       "\n",
       "    .dataframe thead th {\n",
       "        text-align: right;\n",
       "    }\n",
       "</style>\n",
       "<table border=\"1\" class=\"dataframe\">\n",
       "  <thead>\n",
       "    <tr style=\"text-align: right;\">\n",
       "      <th></th>\n",
       "      <th>Make</th>\n",
       "      <th>Year</th>\n",
       "      <th>Sales</th>\n",
       "      <th>Model</th>\n",
       "    </tr>\n",
       "  </thead>\n",
       "  <tbody>\n",
       "    <tr>\n",
       "      <th>0</th>\n",
       "      <td>0.0</td>\n",
       "      <td>1.00</td>\n",
       "      <td>0.035101</td>\n",
       "      <td>0.127097</td>\n",
       "    </tr>\n",
       "    <tr>\n",
       "      <th>1</th>\n",
       "      <td>0.0</td>\n",
       "      <td>0.95</td>\n",
       "      <td>0.041723</td>\n",
       "      <td>0.127097</td>\n",
       "    </tr>\n",
       "    <tr>\n",
       "      <th>2</th>\n",
       "      <td>0.0</td>\n",
       "      <td>0.90</td>\n",
       "      <td>0.033310</td>\n",
       "      <td>0.127097</td>\n",
       "    </tr>\n",
       "    <tr>\n",
       "      <th>3</th>\n",
       "      <td>0.0</td>\n",
       "      <td>0.70</td>\n",
       "      <td>0.000261</td>\n",
       "      <td>0.090050</td>\n",
       "    </tr>\n",
       "    <tr>\n",
       "      <th>4</th>\n",
       "      <td>0.0</td>\n",
       "      <td>0.65</td>\n",
       "      <td>0.000455</td>\n",
       "      <td>0.090050</td>\n",
       "    </tr>\n",
       "    <tr>\n",
       "      <th>...</th>\n",
       "      <td>...</td>\n",
       "      <td>...</td>\n",
       "      <td>...</td>\n",
       "      <td>...</td>\n",
       "    </tr>\n",
       "    <tr>\n",
       "      <th>822</th>\n",
       "      <td>1.0</td>\n",
       "      <td>0.75</td>\n",
       "      <td>0.019868</td>\n",
       "      <td>0.102906</td>\n",
       "    </tr>\n",
       "    <tr>\n",
       "      <th>823</th>\n",
       "      <td>1.0</td>\n",
       "      <td>0.70</td>\n",
       "      <td>0.039090</td>\n",
       "      <td>0.102906</td>\n",
       "    </tr>\n",
       "    <tr>\n",
       "      <th>824</th>\n",
       "      <td>1.0</td>\n",
       "      <td>0.90</td>\n",
       "      <td>0.002364</td>\n",
       "      <td>0.103614</td>\n",
       "    </tr>\n",
       "    <tr>\n",
       "      <th>825</th>\n",
       "      <td>1.0</td>\n",
       "      <td>0.85</td>\n",
       "      <td>0.003126</td>\n",
       "      <td>0.103614</td>\n",
       "    </tr>\n",
       "    <tr>\n",
       "      <th>826</th>\n",
       "      <td>1.0</td>\n",
       "      <td>0.80</td>\n",
       "      <td>0.006221</td>\n",
       "      <td>0.103614</td>\n",
       "    </tr>\n",
       "  </tbody>\n",
       "</table>\n",
       "<p>827 rows × 4 columns</p>\n",
       "</div>"
      ],
      "text/plain": [
       "     Make  Year     Sales     Model\n",
       "0     0.0  1.00  0.035101  0.127097\n",
       "1     0.0  0.95  0.041723  0.127097\n",
       "2     0.0  0.90  0.033310  0.127097\n",
       "3     0.0  0.70  0.000261  0.090050\n",
       "4     0.0  0.65  0.000455  0.090050\n",
       "..    ...   ...       ...       ...\n",
       "822   1.0  0.75  0.019868  0.102906\n",
       "823   1.0  0.70  0.039090  0.102906\n",
       "824   1.0  0.90  0.002364  0.103614\n",
       "825   1.0  0.85  0.003126  0.103614\n",
       "826   1.0  0.80  0.006221  0.103614\n",
       "\n",
       "[827 rows x 4 columns]"
      ]
     },
     "execution_count": 15,
     "metadata": {},
     "output_type": "execute_result"
    }
   ],
   "source": [
    "scaled_data = MinMaxScaler().fit_transform(df)\n",
    "df_scaled = pd.DataFrame(scaled_data, columns=df.columns)\n",
    "df_scaled"
   ]
  },
  {
   "cell_type": "markdown",
   "id": "b5af52c5",
   "metadata": {
    "papermill": {
     "duration": 0.012021,
     "end_time": "2023-06-02T12:45:33.791287",
     "exception": false,
     "start_time": "2023-06-02T12:45:33.779266",
     "status": "completed"
    },
    "tags": []
   },
   "source": [
    "**`scaled_data = MinMaxScaler().fit_transform(df)`:**\n",
    "   - `fit_transform()` method of the `MinMaxScaler` class is used to scale the values in `df`.\n",
    "   - The `fit_transform()` method fits the scaler to the data and then transforms the data using min-max scaling.\n",
    "\n",
    "**`df_scaled = pd.DataFrame(scaled_data, columns=df.columns)`:** \n",
    "   - The scaled data is used to create a new DataFrame called `df_scaled`.\n",
    "   - The `pd.DataFrame()` function is used to create a DataFrame from the scaled data.\n",
    "   - The `columns` parameter is set to `df.columns` to ensure that the column names are preserved in the new DataFrame.\n",
    "\n",
    "The resulting **`df_scaled`** DataFrame contains the scaled values of `df`, where each feature's values are scaled to a range between 0 and 1 using the min-max scaling technique."
   ]
  },
  {
   "cell_type": "code",
   "execution_count": 16,
   "id": "6d57726c",
   "metadata": {
    "execution": {
     "iopub.execute_input": "2023-06-02T12:45:33.816115Z",
     "iopub.status.busy": "2023-06-02T12:45:33.815707Z",
     "iopub.status.idle": "2023-06-02T12:45:34.243245Z",
     "shell.execute_reply": "2023-06-02T12:45:34.241666Z"
    },
    "papermill": {
     "duration": 0.444136,
     "end_time": "2023-06-02T12:45:34.246785",
     "exception": false,
     "start_time": "2023-06-02T12:45:33.802649",
     "status": "completed"
    },
    "tags": []
   },
   "outputs": [
    {
     "data": {
      "text/plain": [
       "<Axes: >"
      ]
     },
     "execution_count": 16,
     "metadata": {},
     "output_type": "execute_result"
    },
    {
     "data": {
      "image/png": "[encoded data removed]",
      "text/plain": [
       "<Figure size 1400x700 with 2 Axes>"
      ]
     },
     "metadata": {},
     "output_type": "display_data"
    }
   ],
   "source": [
    "fig, ax = plt.subplots(figsize = (14,7))\n",
    "corr = df.corr().round(2)\n",
    "sns.heatmap(corr, annot = True, ax=ax, vmin=-1, vmax=1, center=0, cmap='YlOrBr')"
   ]
  },
  {
   "cell_type": "code",
   "execution_count": 17,
   "id": "1e922f69",
   "metadata": {
    "execution": {
     "iopub.execute_input": "2023-06-02T12:45:34.272889Z",
     "iopub.status.busy": "2023-06-02T12:45:34.272452Z",
     "iopub.status.idle": "2023-06-02T12:45:34.279453Z",
     "shell.execute_reply": "2023-06-02T12:45:34.278321Z"
    },
    "papermill": {
     "duration": 0.022427,
     "end_time": "2023-06-02T12:45:34.281566",
     "exception": false,
     "start_time": "2023-06-02T12:45:34.259139",
     "status": "completed"
    },
    "tags": []
   },
   "outputs": [],
   "source": [
    "Y = df_scaled['Sales']\n",
    "X = df_scaled.drop(['Sales'], axis=1)\n",
    "#Dependent and independent variable "
   ]
  },
  {
   "cell_type": "code",
   "execution_count": 18,
   "id": "7bfbf48d",
   "metadata": {
    "execution": {
     "iopub.execute_input": "2023-06-02T12:45:34.309653Z",
     "iopub.status.busy": "2023-06-02T12:45:34.309194Z",
     "iopub.status.idle": "2023-06-02T12:45:34.320127Z",
     "shell.execute_reply": "2023-06-02T12:45:34.318473Z"
    },
    "papermill": {
     "duration": 0.027739,
     "end_time": "2023-06-02T12:45:34.322663",
     "exception": false,
     "start_time": "2023-06-02T12:45:34.294924",
     "status": "completed"
    },
    "tags": []
   },
   "outputs": [
    {
     "name": "stdout",
     "output_type": "stream",
     "text": [
      "Size of X_train DataFrame:  (620, 3)\n",
      "Size of X_val DataFrame:  (207, 3)\n",
      "Size of Y_train DataFrame:  (620,)\n",
      "Size of Y_val DataFrame:  (207,)\n"
     ]
    }
   ],
   "source": [
    "X_train, X_val, Y_train, Y_val = train_test_split(X, Y, test_size=0.25, random_state=10, shuffle=True)\n",
    "\n",
    "print(\"Size of X_train DataFrame: \", X_train.shape)\n",
    "print(\"Size of X_val DataFrame: \", X_val.shape)\n",
    "print(\"Size of Y_train DataFrame: \", Y_train.shape)\n",
    "print(\"Size of Y_val DataFrame: \", Y_val.shape)"
   ]
  },
  {
   "cell_type": "markdown",
   "id": "9760f901",
   "metadata": {
    "papermill": {
     "duration": 0.012582,
     "end_time": "2023-06-02T12:45:34.347668",
     "exception": false,
     "start_time": "2023-06-02T12:45:34.335086",
     "status": "completed"
    },
    "tags": []
   },
   "source": [
    "# Models"
   ]
  },
  {
   "cell_type": "code",
   "execution_count": 19,
   "id": "615c0310",
   "metadata": {
    "execution": {
     "iopub.execute_input": "2023-06-02T12:45:34.375628Z",
     "iopub.status.busy": "2023-06-02T12:45:34.374023Z",
     "iopub.status.idle": "2023-06-02T12:45:34.519549Z",
     "shell.execute_reply": "2023-06-02T12:45:34.518586Z"
    },
    "papermill": {
     "duration": 0.16169,
     "end_time": "2023-06-02T12:45:34.521920",
     "exception": false,
     "start_time": "2023-06-02T12:45:34.360230",
     "status": "completed"
    },
    "tags": []
   },
   "outputs": [
    {
     "name": "stdout",
     "output_type": "stream",
     "text": [
      "linear mse:  0.0020974203824056853\n",
      "Training Accuracy r2:  0.8957172642946611\n"
     ]
    }
   ],
   "source": [
    "from sklearn.linear_model import LinearRegression\n",
    "\n",
    "reg = LinearRegression().fit(X_train, Y_train)\n",
    "Y_pred_linear = reg.predict(X_val)\n",
    "from sklearn.metrics import mean_squared_error\n",
    "mse = mean_squared_error(Y_val, Y_pred_linear)\n",
    "print(\"linear mse: \",mse)\n",
    "print('Training Accuracy r2: ', metrics.r2_score(Y_val, Y_pred_linear))\n"
   ]
  },
  {
   "cell_type": "code",
   "execution_count": 20,
   "id": "f6ab4fa6",
   "metadata": {
    "execution": {
     "iopub.execute_input": "2023-06-02T12:45:34.552096Z",
     "iopub.status.busy": "2023-06-02T12:45:34.551389Z",
     "iopub.status.idle": "2023-06-02T12:45:34.983850Z",
     "shell.execute_reply": "2023-06-02T12:45:34.982180Z"
    },
    "papermill": {
     "duration": 0.451003,
     "end_time": "2023-06-02T12:45:34.986548",
     "exception": false,
     "start_time": "2023-06-02T12:45:34.535545",
     "status": "completed"
    },
    "tags": []
   },
   "outputs": [
    {
     "name": "stdout",
     "output_type": "stream",
     "text": [
      "GBR mse:  0.0012844732093591459\n",
      "Training Accuracy r2:  0.9361366079323817\n"
     ]
    }
   ],
   "source": [
    "from sklearn.ensemble import GradientBoostingRegressor\n",
    "\n",
    "GBR = GradientBoostingRegressor(n_estimators=100, learning_rate=0.1).fit(X_train,Y_train)\n",
    "Y_pred_GBR = GBR.predict(X_val)\n",
    "mse_GBR = mean_squared_error(Y_val,Y_pred_GBR)\n",
    "print(\"GBR mse: \",mse_GBR)\n",
    "\n",
    "print('Training Accuracy r2: ', metrics.r2_score(Y_val, Y_pred_GBR))\n"
   ]
  },
  {
   "cell_type": "code",
   "execution_count": 21,
   "id": "b76df7a6",
   "metadata": {
    "execution": {
     "iopub.execute_input": "2023-06-02T12:45:35.016094Z",
     "iopub.status.busy": "2023-06-02T12:45:35.015682Z",
     "iopub.status.idle": "2023-06-02T12:45:35.282885Z",
     "shell.execute_reply": "2023-06-02T12:45:35.281213Z"
    },
    "papermill": {
     "duration": 0.285393,
     "end_time": "2023-06-02T12:45:35.285543",
     "exception": false,
     "start_time": "2023-06-02T12:45:35.000150",
     "status": "completed"
    },
    "tags": []
   },
   "outputs": [
    {
     "name": "stdout",
     "output_type": "stream",
     "text": [
      "RFR mse:  0.001170274306753893\n",
      "mae_RFR:  0.021055433910459814\n",
      "Training Accuracy r2:  0.9418145226118243\n"
     ]
    }
   ],
   "source": [
    "from sklearn.ensemble import RandomForestRegressor\n",
    "\n",
    "RFR = RandomForestRegressor(n_estimators=100).fit(X_train,Y_train)\n",
    "Y_pred_RFR = RFR.predict(X_val)\n",
    "mse_RFR = mean_squared_error(Y_val,Y_pred_RFR)\n",
    "from sklearn.metrics import mean_absolute_error\n",
    "\n",
    "mae = mean_absolute_error(Y_val, Y_pred_RFR)\n",
    "print(\"RFR mse: \",mse_RFR)\n",
    "print(\"mae_RFR: \",mae)\n",
    "print('Training Accuracy r2: ', metrics.r2_score(Y_val, Y_pred_RFR))\n",
    "\n"
   ]
  },
  {
   "cell_type": "code",
   "execution_count": 22,
   "id": "480a0bf3",
   "metadata": {
    "execution": {
     "iopub.execute_input": "2023-06-02T12:45:35.312018Z",
     "iopub.status.busy": "2023-06-02T12:45:35.311615Z",
     "iopub.status.idle": "2023-06-02T12:45:35.326665Z",
     "shell.execute_reply": "2023-06-02T12:45:35.325443Z"
    },
    "papermill": {
     "duration": 0.031309,
     "end_time": "2023-06-02T12:45:35.329161",
     "exception": false,
     "start_time": "2023-06-02T12:45:35.297852",
     "status": "completed"
    },
    "tags": []
   },
   "outputs": [
    {
     "name": "stdout",
     "output_type": "stream",
     "text": [
      "DTR mse:  0.0017761777534271452\n",
      "Training Accuracy r2:  0.9116892937724302\n"
     ]
    }
   ],
   "source": [
    "from sklearn.tree import DecisionTreeRegressor\n",
    "\n",
    "DTR = DecisionTreeRegressor().fit(X_train,Y_train)\n",
    "Y_pred_DTR = DTR.predict(X_val)\n",
    "mse_DTR = mean_squared_error(Y_val,Y_pred_DTR)\n",
    "print(\"DTR mse: \",mse_DTR)\n",
    "print('Training Accuracy r2: ', metrics.r2_score(Y_val, Y_pred_DTR))\n",
    "\n"
   ]
  },
  {
   "cell_type": "code",
   "execution_count": 23,
   "id": "b56b6d6b",
   "metadata": {
    "execution": {
     "iopub.execute_input": "2023-06-02T12:45:35.359480Z",
     "iopub.status.busy": "2023-06-02T12:45:35.358319Z",
     "iopub.status.idle": "2023-06-02T12:45:35.684341Z",
     "shell.execute_reply": "2023-06-02T12:45:35.683449Z"
    },
    "papermill": {
     "duration": 0.343912,
     "end_time": "2023-06-02T12:45:35.687389",
     "exception": false,
     "start_time": "2023-06-02T12:45:35.343477",
     "status": "completed"
    },
    "tags": []
   },
   "outputs": [
    {
     "name": "stdout",
     "output_type": "stream",
     "text": [
      "XGR mse:  0.001171443480973066\n",
      "Training Accuracy r2:  0.9417563918302632\n"
     ]
    }
   ],
   "source": [
    "from xgboost import XGBRegressor\n",
    "\n",
    "XGR = XGBRegressor(n_estimators=100, learning_rate=0.1).fit(X_train,Y_train)\n",
    "Y_pred_XGR = XGR.predict(X_val)\n",
    "mse_XGR = mean_squared_error(Y_val,Y_pred_XGR)\n",
    "print(\"XGR mse: \",mse_XGR)\n",
    "print('Training Accuracy r2: ', metrics.r2_score(Y_val, Y_pred_XGR))\n"
   ]
  },
  {
   "cell_type": "markdown",
   "id": "cba7a15a",
   "metadata": {
    "papermill": {
     "duration": 0.012267,
     "end_time": "2023-06-02T12:45:35.712700",
     "exception": false,
     "start_time": "2023-06-02T12:45:35.700433",
     "status": "completed"
    },
    "tags": []
   },
   "source": [
    "# Grid Search"
   ]
  },
  {
   "cell_type": "code",
   "execution_count": 24,
   "id": "d1b99df8",
   "metadata": {
    "execution": {
     "iopub.execute_input": "2023-06-02T12:45:35.745309Z",
     "iopub.status.busy": "2023-06-02T12:45:35.744540Z",
     "iopub.status.idle": "2023-06-02T12:46:00.776552Z",
     "shell.execute_reply": "2023-06-02T12:46:00.775465Z"
    },
    "papermill": {
     "duration": 25.051443,
     "end_time": "2023-06-02T12:46:00.778967",
     "exception": false,
     "start_time": "2023-06-02T12:45:35.727524",
     "status": "completed"
    },
    "tags": []
   },
   "outputs": [
    {
     "name": "stdout",
     "output_type": "stream",
     "text": [
      "Fitting 5 folds for each of 12 candidates, totalling 60 fits\n",
      "[CV] END ...........criterion=squared_error, n_estimators=50; total time=   0.1s\n",
      "[CV] END ...........criterion=squared_error, n_estimators=50; total time=   0.1s\n",
      "[CV] END ...........criterion=squared_error, n_estimators=50; total time=   0.1s\n",
      "[CV] END ...........criterion=squared_error, n_estimators=50; total time=   0.1s\n",
      "[CV] END ...........criterion=squared_error, n_estimators=50; total time=   0.1s\n",
      "[CV] END ..........criterion=squared_error, n_estimators=100; total time=   0.2s\n",
      "[CV] END ..........criterion=squared_error, n_estimators=100; total time=   0.2s\n",
      "[CV] END ..........criterion=squared_error, n_estimators=100; total time=   0.3s\n",
      "[CV] END ..........criterion=squared_error, n_estimators=100; total time=   0.2s\n",
      "[CV] END ..........criterion=squared_error, n_estimators=100; total time=   0.2s\n",
      "[CV] END ..........criterion=squared_error, n_estimators=200; total time=   0.5s\n",
      "[CV] END ..........criterion=squared_error, n_estimators=200; total time=   0.5s\n",
      "[CV] END ..........criterion=squared_error, n_estimators=200; total time=   0.5s\n",
      "[CV] END ..........criterion=squared_error, n_estimators=200; total time=   0.5s\n",
      "[CV] END ..........criterion=squared_error, n_estimators=200; total time=   0.5s\n",
      "[CV] END ..........criterion=absolute_error, n_estimators=50; total time=   0.3s\n",
      "[CV] END ..........criterion=absolute_error, n_estimators=50; total time=   0.3s\n",
      "[CV] END ..........criterion=absolute_error, n_estimators=50; total time=   0.3s\n",
      "[CV] END ..........criterion=absolute_error, n_estimators=50; total time=   0.3s\n",
      "[CV] END ..........criterion=absolute_error, n_estimators=50; total time=   0.3s\n",
      "[CV] END .........criterion=absolute_error, n_estimators=100; total time=   0.6s\n",
      "[CV] END .........criterion=absolute_error, n_estimators=100; total time=   0.6s\n",
      "[CV] END .........criterion=absolute_error, n_estimators=100; total time=   0.6s\n",
      "[CV] END .........criterion=absolute_error, n_estimators=100; total time=   0.7s\n",
      "[CV] END .........criterion=absolute_error, n_estimators=100; total time=   0.6s\n",
      "[CV] END .........criterion=absolute_error, n_estimators=200; total time=   1.2s\n",
      "[CV] END .........criterion=absolute_error, n_estimators=200; total time=   1.2s\n",
      "[CV] END .........criterion=absolute_error, n_estimators=200; total time=   1.2s\n",
      "[CV] END .........criterion=absolute_error, n_estimators=200; total time=   1.2s\n",
      "[CV] END .........criterion=absolute_error, n_estimators=200; total time=   1.2s\n",
      "[CV] END ............criterion=friedman_mse, n_estimators=50; total time=   0.1s\n",
      "[CV] END ............criterion=friedman_mse, n_estimators=50; total time=   0.1s\n",
      "[CV] END ............criterion=friedman_mse, n_estimators=50; total time=   0.1s\n",
      "[CV] END ............criterion=friedman_mse, n_estimators=50; total time=   0.1s\n",
      "[CV] END ............criterion=friedman_mse, n_estimators=50; total time=   0.1s\n",
      "[CV] END ...........criterion=friedman_mse, n_estimators=100; total time=   0.2s\n",
      "[CV] END ...........criterion=friedman_mse, n_estimators=100; total time=   0.2s\n",
      "[CV] END ...........criterion=friedman_mse, n_estimators=100; total time=   0.3s\n",
      "[CV] END ...........criterion=friedman_mse, n_estimators=100; total time=   0.2s\n",
      "[CV] END ...........criterion=friedman_mse, n_estimators=100; total time=   0.2s\n",
      "[CV] END ...........criterion=friedman_mse, n_estimators=200; total time=   0.5s\n",
      "[CV] END ...........criterion=friedman_mse, n_estimators=200; total time=   0.5s\n",
      "[CV] END ...........criterion=friedman_mse, n_estimators=200; total time=   0.5s\n",
      "[CV] END ...........criterion=friedman_mse, n_estimators=200; total time=   0.4s\n",
      "[CV] END ...........criterion=friedman_mse, n_estimators=200; total time=   0.5s\n",
      "[CV] END .................criterion=poisson, n_estimators=50; total time=   0.1s\n",
      "[CV] END .................criterion=poisson, n_estimators=50; total time=   0.1s\n",
      "[CV] END .................criterion=poisson, n_estimators=50; total time=   0.1s\n",
      "[CV] END .................criterion=poisson, n_estimators=50; total time=   0.1s\n",
      "[CV] END .................criterion=poisson, n_estimators=50; total time=   0.1s\n",
      "[CV] END ................criterion=poisson, n_estimators=100; total time=   0.3s\n",
      "[CV] END ................criterion=poisson, n_estimators=100; total time=   0.2s\n",
      "[CV] END ................criterion=poisson, n_estimators=100; total time=   0.2s\n",
      "[CV] END ................criterion=poisson, n_estimators=100; total time=   0.2s\n",
      "[CV] END ................criterion=poisson, n_estimators=100; total time=   0.2s\n",
      "[CV] END ................criterion=poisson, n_estimators=200; total time=   0.5s\n",
      "[CV] END ................criterion=poisson, n_estimators=200; total time=   0.5s\n",
      "[CV] END ................criterion=poisson, n_estimators=200; total time=   0.5s\n",
      "[CV] END ................criterion=poisson, n_estimators=200; total time=   0.5s\n",
      "[CV] END ................criterion=poisson, n_estimators=200; total time=   0.5s\n"
     ]
    },
    {
     "data": {
      "text/html": [
       "<style>#sk-container-id-1 {color: black;background-color: white;}#sk-container-id-1 pre{padding: 0;}#sk-container-id-1 div.sk-toggleable {background-color: white;}#sk-container-id-1 label.sk-toggleable__label {cursor: pointer;display: block;width: 100%;margin-bottom: 0;padding: 0.3em;box-sizing: border-box;text-align: center;}#sk-container-id-1 label.sk-toggleable__label-arrow:before {content: \"▸\";float: left;margin-right: 0.25em;color: #696969;}#sk-container-id-1 label.sk-toggleable__label-arrow:hover:before {color: black;}#sk-container-id-1 div.sk-estimator:hover label.sk-toggleable__label-arrow:before {color: black;}#sk-container-id-1 div.sk-toggleable__content {max-height: 0;max-width: 0;overflow: hidden;text-align: left;background-color: #f0f8ff;}#sk-container-id-1 div.sk-toggleable__content pre {margin: 0.2em;color: black;border-radius: 0.25em;background-color: #f0f8ff;}#sk-container-id-1 input.sk-toggleable__control:checked~div.sk-toggleable__content {max-height: 200px;max-width: 100%;overflow: auto;}#sk-container-id-1 input.sk-toggleable__control:checked~label.sk-toggleable__label-arrow:before {content: \"▾\";}#sk-container-id-1 div.sk-estimator input.sk-toggleable__control:checked~label.sk-toggleable__label {background-color: #d4ebff;}#sk-container-id-1 div.sk-label input.sk-toggleable__control:checked~label.sk-toggleable__label {background-color: #d4ebff;}#sk-container-id-1 input.sk-hidden--visually {border: 0;clip: rect(1px 1px 1px 1px);clip: rect(1px, 1px, 1px, 1px);height: 1px;margin: -1px;overflow: hidden;padding: 0;position: absolute;width: 1px;}#sk-container-id-1 div.sk-estimator {font-family: monospace;background-color: #f0f8ff;border: 1px dotted black;border-radius: 0.25em;box-sizing: border-box;margin-bottom: 0.5em;}#sk-container-id-1 div.sk-estimator:hover {background-color: #d4ebff;}#sk-container-id-1 div.sk-parallel-item::after {content: \"\";width: 100%;border-bottom: 1px solid gray;flex-grow: 1;}#sk-container-id-1 div.sk-label:hover label.sk-toggleable__label {background-color: #d4ebff;}#sk-container-id-1 div.sk-serial::before {content: \"\";position: absolute;border-left: 1px solid gray;box-sizing: border-box;top: 0;bottom: 0;left: 50%;z-index: 0;}#sk-container-id-1 div.sk-serial {display: flex;flex-direction: column;align-items: center;background-color: white;padding-right: 0.2em;padding-left: 0.2em;position: relative;}#sk-container-id-1 div.sk-item {position: relative;z-index: 1;}#sk-container-id-1 div.sk-parallel {display: flex;align-items: stretch;justify-content: center;background-color: white;position: relative;}#sk-container-id-1 div.sk-item::before, #sk-container-id-1 div.sk-parallel-item::before {content: \"\";position: absolute;border-left: 1px solid gray;box-sizing: border-box;top: 0;bottom: 0;left: 50%;z-index: -1;}#sk-container-id-1 div.sk-parallel-item {display: flex;flex-direction: column;z-index: 1;position: relative;background-color: white;}#sk-container-id-1 div.sk-parallel-item:first-child::after {align-self: flex-end;width: 50%;}#sk-container-id-1 div.sk-parallel-item:last-child::after {align-self: flex-start;width: 50%;}#sk-container-id-1 div.sk-parallel-item:only-child::after {width: 0;}#sk-container-id-1 div.sk-dashed-wrapped {border: 1px dashed gray;margin: 0 0.4em 0.5em 0.4em;box-sizing: border-box;padding-bottom: 0.4em;background-color: white;}#sk-container-id-1 div.sk-label label {font-family: monospace;font-weight: bold;display: inline-block;line-height: 1.2em;}#sk-container-id-1 div.sk-label-container {text-align: center;}#sk-container-id-1 div.sk-container {/* jupyter's `normalize.less` sets `[hidden] { display: none; }` but bootstrap.min.css set `[hidden] { display: none !important; }` so we also need the `!important` here to be able to override the default hidden behavior on the sphinx rendered scikit-learn.org. See: https://github.com/scikit-learn/scikit-learn/issues/21755 */display: inline-block !important;position: relative;}#sk-container-id-1 div.sk-text-repr-fallback {display: none;}</style><div id=\"sk-container-id-1\" class=\"sk-top-container\"><div class=\"sk-text-repr-fallback\"><pre>GridSearchCV(cv=5, estimator=RandomForestRegressor(),\n",
       "             param_grid={&#x27;criterion&#x27;: [&#x27;squared_error&#x27;, &#x27;absolute_error&#x27;,\n",
       "                                       &#x27;friedman_mse&#x27;, &#x27;poisson&#x27;],\n",
       "                         &#x27;n_estimators&#x27;: [50, 100, 200]},\n",
       "             scoring=&#x27;r2&#x27;, verbose=2)</pre><b>In a Jupyter environment, please rerun this cell to show the HTML representation or trust the notebook. <br />On GitHub, the HTML representation is unable to render, please try loading this page with nbviewer.org.</b></div><div class=\"sk-container\" hidden><div class=\"sk-item sk-dashed-wrapped\"><div class=\"sk-label-container\"><div class=\"sk-label sk-toggleable\"><input class=\"sk-toggleable__control sk-hidden--visually\" id=\"sk-estimator-id-1\" type=\"checkbox\" ><label for=\"sk-estimator-id-1\" class=\"sk-toggleable__label sk-toggleable__label-arrow\">GridSearchCV</label><div class=\"sk-toggleable__content\"><pre>GridSearchCV(cv=5, estimator=RandomForestRegressor(),\n",
       "             param_grid={&#x27;criterion&#x27;: [&#x27;squared_error&#x27;, &#x27;absolute_error&#x27;,\n",
       "                                       &#x27;friedman_mse&#x27;, &#x27;poisson&#x27;],\n",
       "                         &#x27;n_estimators&#x27;: [50, 100, 200]},\n",
       "             scoring=&#x27;r2&#x27;, verbose=2)</pre></div></div></div><div class=\"sk-parallel\"><div class=\"sk-parallel-item\"><div class=\"sk-item\"><div class=\"sk-label-container\"><div class=\"sk-label sk-toggleable\"><input class=\"sk-toggleable__control sk-hidden--visually\" id=\"sk-estimator-id-2\" type=\"checkbox\" ><label for=\"sk-estimator-id-2\" class=\"sk-toggleable__label sk-toggleable__label-arrow\">estimator: RandomForestRegressor</label><div class=\"sk-toggleable__content\"><pre>RandomForestRegressor()</pre></div></div></div><div class=\"sk-serial\"><div class=\"sk-item\"><div class=\"sk-estimator sk-toggleable\"><input class=\"sk-toggleable__control sk-hidden--visually\" id=\"sk-estimator-id-3\" type=\"checkbox\" ><label for=\"sk-estimator-id-3\" class=\"sk-toggleable__label sk-toggleable__label-arrow\">RandomForestRegressor</label><div class=\"sk-toggleable__content\"><pre>RandomForestRegressor()</pre></div></div></div></div></div></div></div></div></div></div>"
      ],
      "text/plain": [
       "GridSearchCV(cv=5, estimator=RandomForestRegressor(),\n",
       "             param_grid={'criterion': ['squared_error', 'absolute_error',\n",
       "                                       'friedman_mse', 'poisson'],\n",
       "                         'n_estimators': [50, 100, 200]},\n",
       "             scoring='r2', verbose=2)"
      ]
     },
     "execution_count": 24,
     "metadata": {},
     "output_type": "execute_result"
    }
   ],
   "source": [
    "rf_reg = RandomForestRegressor()\n",
    "\n",
    "param = {'n_estimators': [50, 100, 200],\n",
    "        'criterion': ['squared_error', 'absolute_error','friedman_mse','poisson'],\n",
    "        }\n",
    "\n",
    "rf_reg_cv = GridSearchCV(rf_reg, param_grid = param, scoring = 'r2', cv=5, verbose=2)\n",
    "rf_reg_cv.fit(X_train, Y_train)"
   ]
  },
  {
   "cell_type": "markdown",
   "id": "d457bf75",
   "metadata": {
    "papermill": {
     "duration": 0.017187,
     "end_time": "2023-06-02T12:46:00.813511",
     "exception": false,
     "start_time": "2023-06-02T12:46:00.796324",
     "status": "completed"
    },
    "tags": []
   },
   "source": [
    "1. **`RandomForestRegressor()`:**\n",
    "   - Initializes an instance of the `RandomForestRegressor` class, which represents the random forest regression model.\n",
    "\n",
    "2. **`param`:**\n",
    "   - Defines a dictionary `param` that specifies the hyperparameter grid for the grid search.\n",
    "   - The hyperparameters to be tuned are `'n_estimators'` (number of trees in the random forest) and `'criterion'` (impurity criterion for splitting).\n",
    "\n",
    "3. **`GridSearchCV`:**\n",
    "   - Initializes an instance of the `GridSearchCV` class, which performs a grid search with cross-validation.\n",
    "   - The model to be tuned is specified as `rf_reg`, the hyperparameter grid is set as `param`, and the scoring metric is `'r2'` (coefficient of determination).\n",
    "   - `cv=5` specifies 5-fold cross-validation, dividing the data into 5 subsets for training and evaluation.\n",
    "   - `verbose=2` prints detailed progress and results of the grid search.\n",
    "\n",
    "4. **`rf_reg_cv.fit(X_train, Y_train)`:**\n",
    "   - Fits the grid search model to the training data `X_train` and `Y_train`.\n",
    "   - The grid search algorithm will iterate through all possible combinations of hyperparameters specified in `param` and evaluate the model's performance using cross-validation.\n",
    "   - Once the grid search is complete, the best combination of hyperparameters will be determined based on the scoring metric specified.\n",
    "   - The fitted grid search model is stored in `rf_reg_cv`.\n",
    "\n",
    "After executing this code, you can access the best hyperparameters and model performance metrics from `rf_reg_cv.best_params_` and `rf_reg_cv.best_score_`, respectively."
   ]
  },
  {
   "cell_type": "code",
   "execution_count": 25,
   "id": "81484d08",
   "metadata": {
    "execution": {
     "iopub.execute_input": "2023-06-02T12:46:00.848931Z",
     "iopub.status.busy": "2023-06-02T12:46:00.848519Z",
     "iopub.status.idle": "2023-06-02T12:46:02.454268Z",
     "shell.execute_reply": "2023-06-02T12:46:02.453148Z"
    },
    "papermill": {
     "duration": 1.626162,
     "end_time": "2023-06-02T12:46:02.456476",
     "exception": false,
     "start_time": "2023-06-02T12:46:00.830314",
     "status": "completed"
    },
    "tags": []
   },
   "outputs": [
    {
     "name": "stdout",
     "output_type": "stream",
     "text": [
      "R2 score for Random Forest training set:  0.9814949167760675\n",
      "R2 score for Random Forest validation set:  0.9447040225788937\n"
     ]
    }
   ],
   "source": [
    "rf_reg = RandomForestRegressor(**rf_reg_cv.best_params_)\n",
    "rf_reg.fit(X_train, Y_train)\n",
    "Y_pred_rf_train = rf_reg.predict(X_train)\n",
    "Y_pred_rf_val = rf_reg.predict(X_val)\n",
    "\n",
    "r2_rf_train = metrics.r2_score(Y_train, Y_pred_rf_train) \n",
    "r2_rf_val = metrics.r2_score(Y_val, Y_pred_rf_val)\n",
    "\n",
    "print(\"R2 score for Random Forest training set: \", r2_rf_train)\n",
    "print(\"R2 score for Random Forest validation set: \", r2_rf_val)"
   ]
  },
  {
   "cell_type": "code",
   "execution_count": null,
   "id": "56d18764",
   "metadata": {
    "papermill": {
     "duration": 0.015964,
     "end_time": "2023-06-02T12:46:02.488515",
     "exception": false,
     "start_time": "2023-06-02T12:46:02.472551",
     "status": "completed"
    },
    "tags": []
   },
   "outputs": [],
   "source": []
  }
 ],
 "metadata": {
  "kernelspec": {
   "display_name": "Python 3",
   "language": "python",
   "name": "python3"
  },
  "language_info": {
   "codemirror_mode": {
    "name": "ipython",
    "version": 3
   },
   "file_extension": ".py",
   "mimetype": "text/x-python",
   "name": "python",
   "nbconvert_exporter": "python",
   "pygments_lexer": "ipython3",
   "version": "3.10.10"
  },
  "papermill": {
   "default_parameters": {},
   "duration": 60.682366,
   "end_time": "2023-06-02T12:46:03.830861",
   "environment_variables": {},
   "exception": null,
   "input_path": "__notebook__.ipynb",
   "output_path": "__notebook__.ipynb",
   "parameters": {},
   "start_time": "2023-06-02T12:45:03.148495",
   "version": "2.4.0"
  }
 },
 "nbformat": 4,
 "nbformat_minor": 5
}
